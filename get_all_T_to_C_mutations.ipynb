{
 "cells": [
  {
   "cell_type": "code",
   "execution_count": 4,
   "metadata": {},
   "outputs": [
    {
     "name": "stdout",
     "output_type": "stream",
     "text": [
      "Requirement already satisfied: biopython in c:\\users\\lukys\\.conda\\envs\\dbsnp\\lib\\site-packages (1.83)\n",
      "Requirement already satisfied: numpy in c:\\users\\lukys\\.conda\\envs\\dbsnp\\lib\\site-packages (from biopython) (1.24.4)\n"
     ]
    }
   ],
   "source": [
    "# install biopython on Jupyter server.\n",
    "import sys\n",
    "!python -m pip install biopython"
   ]
  },
  {
   "cell_type": "code",
   "execution_count": null,
   "metadata": {},
   "outputs": [],
   "source": [
    "import time\n",
    "from Bio import Entrez\n",
    "from urllib.error import HTTPError"
   ]
  },
  {
   "cell_type": "code",
   "execution_count": 12,
   "metadata": {},
   "outputs": [],
   "source": [
    "Entrez.email = \"lszeliga@ethz.ch\" # provide your user email \n",
    "# RECOMMENDED: apply for API key from NCBI (https://ncbiinsights.ncbi.nlm.nih.gov/2017/11/02/new-api-keys-for-the-e-utilities/). \n",
    "# 10 queries per second with a valid API key, otherwise 3 queries per seconds are allowed for 'None'\n",
    "# Entrez.api_key = None\n",
    "\n",
    "# dbSNP supported query terms (https://www.ncbi.nlm.nih.gov/snp/docs/entrez_help/) can be build and test online using web query builder (https://www.ncbi.nlm.nih.gov/snp/advanced) \n",
    "# esearch handle\n",
    "eShandle = Entrez.esearch(db=\"snp\",  # search dbSNP\n",
    "                          #complex query for missense and pathogenic variants in LPL gene with global MAF betweeen 0 and 0.01.\n",
    "                          term='Y[Allele] AND pathogenic[Clinical_Significance]', \n",
    "                          usehistory=\"y\", #cache result on server for download in batches\n",
    "                          retmax=20 # return 20 RSID max\n",
    "                         )\n"
   ]
  },
  {
   "cell_type": "code",
   "execution_count": 13,
   "metadata": {},
   "outputs": [],
   "source": [
    "# get esearch result\n",
    "eSresult = Entrez.read(eShandle)"
   ]
  },
  {
   "cell_type": "code",
   "execution_count": 14,
   "metadata": {},
   "outputs": [
    {
     "name": "stdout",
     "output_type": "stream",
     "text": [
      "Count : 14139\n",
      "RetMax : 20\n",
      "RetStart : 0\n",
      "QueryKey : 1\n",
      "WebEnv : MCID_6745a31fa4330cc02a08967c\n",
      "IdList : ['2154580601', '2154533497', '2154257791', '2154190685', '2154178615', '2154175371', '2154157186', '2154147664', '2154135091', '2154133792', '2154115529', '2154072180', '2154035107', '2154018964', '2153999602', '2153960793', '2153960638', '2153953739', '2153939368', '2153935815']\n",
      "TranslationSet : []\n",
      "TranslationStack : [{'Term': 'Y[Allele]', 'Field': 'Allele', 'Count': '274073470', 'Explode': 'N'}, {'Term': 'pathogenic[Clinical_Significance]', 'Field': 'Clinical_Significance', 'Count': '130269', 'Explode': 'N'}, 'AND']\n",
      "QueryTranslation : Y[Allele] AND pathogenic[Clinical_Significance]\n"
     ]
    }
   ],
   "source": [
    "# review results \n",
    "for k in eSresult:\n",
    "    print (k, \":\", eSresult[k])\n",
    "    \n",
    "#Output: Web environment (&WebEnv) and query key (&query_key) parameters specifying the location on the Entrez history server of the list of UIDs matching the Entrez query\n",
    "#https://www.ncbi.nlm.nih.gov/books/NBK25500/#chapter1.Storing_Search_Results\n",
    "    "
   ]
  },
  {
   "cell_type": "code",
   "execution_count": 15,
   "metadata": {},
   "outputs": [],
   "source": [
    "# get result RSIDs list 'Idlist'\n",
    "# total rs count \n",
    "rslist = (eSresult['IdList'])"
   ]
  },
  {
   "cell_type": "code",
   "execution_count": 16,
   "metadata": {},
   "outputs": [],
   "source": [
    "# get the WebEnv session cookie, and the QueryKey:\n",
    "webenv = eSresult[\"WebEnv\"]\n",
    "query_key = eSresult[\"QueryKey\"]\n",
    "total_count = int(eSresult[\"Count\"])\n",
    "query_key = eSresult[\"QueryKey\"]\n",
    "retmax = 2 # return 2 rs per batch example"
   ]
  },
  {
   "cell_type": "code",
   "execution_count": 17,
   "metadata": {},
   "outputs": [
    {
     "name": "stdout",
     "output_type": "stream",
     "text": [
      "Going to download record 1 to 2\n",
      "b'<?xml version=\"1.0\" ?>\\n<ExchangeSet xmlns:xsi=\"https://www.w3.org/2001/XMLSchema-instance\" xmlns=\"https://www.ncbi.nlm.nih.gov/SNP/docsum\" xsi:schemaLocation=\"https://www.ncbi.nlm.nih.gov/SNP/docsum ftp://ftp.ncbi.nlm.nih.gov/snp/specs/docsum_eutils.xsd\" ><DocumentSummary uid=\"2154580601\"><SNP_ID>2154580601</SNP_ID><ALLELE_ORIGIN/><GLOBAL_MAFS/><GLOBAL_POPULATION/><GLOBAL_SAMPLESIZE>0</GLOBAL_SAMPLESIZE><SUSPECTED/><CLINICAL_SIGNIFICANCE>pathogenic</CLINICAL_SIGNIFICANCE><GENES><GENE_E><NAME>PCDHGC3</NAME><GENE_ID>5098</GENE_ID></GENE_E><GENE_E><NAME>PCDHGB4</NAME><GENE_ID>8641</GENE_ID></GENE_E><GENE_E><NAME>PCDHGA8</NAME><GENE_ID>9708</GENE_ID></GENE_E><GENE_E><NAME>PCDHGA12</NAME><GENE_ID>26025</GENE_ID></GENE_E><GENE_E><NAME>PCDHGC4</NAME><GENE_ID>56098</GENE_ID></GENE_E><GENE_E><NAME>PCDHGB7</NAME><GENE_ID>56099</GENE_ID></GENE_E><GENE_E><NAME>PCDHGB6</NAME><GENE_ID>56100</GENE_ID></GENE_E><GENE_E><NAME>PCDHGB5</NAME><GENE_ID>56101</GENE_ID></GENE_E><GENE_E><NAME>PCDHGB3</NAME><GENE_ID>56102</GENE_ID></GENE_E><GENE_E><NAME>PCDHGB2</NAME><GENE_ID>56103</GENE_ID></GENE_E><GENE_E><NAME>PCDHGB1</NAME><GENE_ID>56104</GENE_ID></GENE_E><GENE_E><NAME>PCDHGA11</NAME><GENE_ID>56105</GENE_ID></GENE_E><GENE_E><NAME>PCDHGA10</NAME><GENE_ID>56106</GENE_ID></GENE_E><GENE_E><NAME>PCDHGA9</NAME><GENE_ID>56107</GENE_ID></GENE_E><GENE_E><NAME>PCDHGA7</NAME><GENE_ID>56108</GENE_ID></GENE_E><GENE_E><NAME>PCDHGA6</NAME><GENE_ID>56109</GENE_ID></GENE_E><GENE_E><NAME>PCDHGA5</NAME><GENE_ID>56110</GENE_ID></GENE_E><GENE_E><NAME>PCDHGA4</NAME><GENE_ID>56111</GENE_ID></GENE_E><GENE_E><NAME>PCDHGA3</NAME><GENE_ID>56112</GENE_ID></GENE_E><GENE_E><NAME>PCDHGA2</NAME><GENE_ID>56113</GENE_ID></GENE_E><GENE_E><NAME>PCDHGA1</NAME><GENE_ID>56114</GENE_ID></GENE_E></GENES><ACC>NC_000005.10</ACC><CHR>5</CHR><HANDLE>None</HANDLE><SPDI>NC_000005.10:141486415:C:T</SPDI><FXN_CLASS>intron_variant,stop_gained,coding_sequence_variant,genic_downstream_transcript_variant</FXN_CLASS><VALIDATED/><DOCSUM>HGVS=NC_000005.10:g.141486416C&gt;T,NC_000005.9:g.140865983C&gt;T,NG_000012.2:g.196613C&gt;T,NG_050746.1:g.6243C&gt;T,NM_018928.3:c.1243C&gt;T,NM_018928.2:c.1243C&gt;T,NM_032406.1:c.1243C&gt;T,NP_061751.1:p.Arg415Ter,NP_115782.1:p.Arg415Ter|SEQ=[C/T]|LEN=1|GENE=PCDHGC3:5098,PCDHGB4:8641,PCDHGA8:9708,PCDHGA12:26025,PCDHGC4:56098,PCDHGB7:56099,PCDHGB6:56100,PCDHGB5:56101,PCDHGB3:56102,PCDHGB2:56103,PCDHGB1:56104,PCDHGA11:56105,PCDHGA10:56106,PCDHGA9:56107,PCDHGA7:56108,PCDHGA6:56109,PCDHGA5:56110,PCDHGA4:56111,PCDHGA3:56112,PCDHGA2:56113,PCDHGA1:56114</DOCSUM><TAX_ID>9606</TAX_ID><ORIG_BUILD>156</ORIG_BUILD><UPD_BUILD>156</UPD_BUILD><CREATEDATE>2022/10/20 00:07</CREATEDATE><UPDATEDATE>2022/10/20 00:07</UPDATEDATE><SS>0</SS><ALLELE>Y</ALLELE><SNP_CLASS>snv</SNP_CLASS><CHRPOS>5:141486416</CHRPOS><CHRPOS_PREV_ASSM>5:140865983</CHRPOS_PREV_ASSM><TEXT/><SNP_ID_SORT>2154580601</SNP_ID_SORT><CLINICAL_SORT>1</CLINICAL_SORT><CITED_SORT/><CHRPOS_SORT>0141486416</CHRPOS_SORT><MERGED_SORT>0</MERGED_SORT></DocumentSummary>\\n<DocumentSummary uid=\"2154533497\"><SNP_ID>2154533497</SNP_ID><ALLELE_ORIGIN/><GLOBAL_MAFS/><GLOBAL_POPULATION/><GLOBAL_SAMPLESIZE>0</GLOBAL_SAMPLESIZE><SUSPECTED/><CLINICAL_SIGNIFICANCE>pathogenic</CLINICAL_SIGNIFICANCE><GENES><GENE_E><NAME>PINK1</NAME><GENE_ID>65018</GENE_ID></GENE_E><GENE_E><NAME>MIR6084</NAME><GENE_ID>102464833</GENE_ID></GENE_E></GENES><ACC>NC_000001.11</ACC><CHR>1</CHR><HANDLE>None</HANDLE><SPDI>NC_000001.11:20633797:C:T</SPDI><FXN_CLASS>500B_downstream_variant,coding_sequence_variant,downstream_transcript_variant,stop_gained</FXN_CLASS><VALIDATED/><DOCSUM>HGVS=NC_000001.11:g.20633798C&gt;T,NC_000001.10:g.20960291C&gt;T,NG_008164.1:g.5344C&gt;T,NM_032409.3:c.250C&gt;T,NM_032409.2:c.250C&gt;T,NP_115785.1:p.Gln84Ter|SEQ=[C/T]|LEN=1|GENE=PINK1:65018,MIR6084:102464833</DOCSUM><TAX_ID>9606</TAX_ID><ORIG_BUILD>156</ORIG_BUILD><UPD_BUILD>156</UPD_BUILD><CREATEDATE>2022/10/20 00:07</CREATEDATE><UPDATEDATE>2022/10/20 00:07</UPDATEDATE><SS>0</SS><ALLELE>Y</ALLELE><SNP_CLASS>snv</SNP_CLASS><CHRPOS>1:20633798</CHRPOS><CHRPOS_PREV_ASSM>1:20960291</CHRPOS_PREV_ASSM><TEXT/><SNP_ID_SORT>2154533497</SNP_ID_SORT><CLINICAL_SORT>1</CLINICAL_SORT><CITED_SORT/><CHRPOS_SORT>0020633798</CHRPOS_SORT><MERGED_SORT>0</MERGED_SORT></DocumentSummary>\\n</ExchangeSet>'\n",
      "Going to download record 3 to 4\n",
      "b'<?xml version=\"1.0\" ?>\\n<ExchangeSet xmlns:xsi=\"https://www.w3.org/2001/XMLSchema-instance\" xmlns=\"https://www.ncbi.nlm.nih.gov/SNP/docsum\" xsi:schemaLocation=\"https://www.ncbi.nlm.nih.gov/SNP/docsum ftp://ftp.ncbi.nlm.nih.gov/snp/specs/docsum_eutils.xsd\" ><DocumentSummary uid=\"2154257791\"><SNP_ID>2154257791</SNP_ID><ALLELE_ORIGIN/><GLOBAL_MAFS/><GLOBAL_POPULATION/><GLOBAL_SAMPLESIZE>0</GLOBAL_SAMPLESIZE><SUSPECTED/><CLINICAL_SIGNIFICANCE>pathogenic</CLINICAL_SIGNIFICANCE><GENES><GENE_E><NAME>TRIP12</NAME><GENE_ID>9320</GENE_ID></GENE_E></GENES><ACC>NC_000002.12</ACC><CHR>2</CHR><HANDLE>None</HANDLE><SPDI>NC_000002.12:229789609:C:T</SPDI><FXN_CLASS>genic_downstream_transcript_variant,splice_donor_variant</FXN_CLASS><VALIDATED/><DOCSUM>HGVS=NC_000002.12:g.229789610C&gt;T,NC_000002.11:g.230654326C&gt;T,NG_053017.1:g.138625G&gt;A|SEQ=[C/T]|LEN=1|GENE=TRIP12:9320</DOCSUM><TAX_ID>9606</TAX_ID><ORIG_BUILD>156</ORIG_BUILD><UPD_BUILD>156</UPD_BUILD><CREATEDATE>2022/10/19 00:24</CREATEDATE><UPDATEDATE>2022/10/19 00:24</UPDATEDATE><SS>0</SS><ALLELE>Y</ALLELE><SNP_CLASS>snv</SNP_CLASS><CHRPOS>2:229789610</CHRPOS><CHRPOS_PREV_ASSM>2:230654326</CHRPOS_PREV_ASSM><TEXT/><SNP_ID_SORT>2154257791</SNP_ID_SORT><CLINICAL_SORT>1</CLINICAL_SORT><CITED_SORT/><CHRPOS_SORT>0229789610</CHRPOS_SORT><MERGED_SORT>0</MERGED_SORT></DocumentSummary>\\n<DocumentSummary uid=\"2154190685\"><SNP_ID>2154190685</SNP_ID><ALLELE_ORIGIN/><GLOBAL_MAFS/><GLOBAL_POPULATION/><GLOBAL_SAMPLESIZE>0</GLOBAL_SAMPLESIZE><SUSPECTED/><CLINICAL_SIGNIFICANCE>pathogenic</CLINICAL_SIGNIFICANCE><GENES><GENE_E><NAME>NEB</NAME><GENE_ID>4703</GENE_ID></GENE_E></GENES><ACC>NC_000002.12</ACC><CHR>2</CHR><HANDLE>None</HANDLE><SPDI>NC_000002.12:151671181:C:T</SPDI><FXN_CLASS>stop_gained,coding_sequence_variant</FXN_CLASS><VALIDATED/><DOCSUM>HGVS=NC_000002.12:g.151671182C&gt;T,NC_000002.11:g.152527696C&gt;T,NG_009382.2:g.68306G&gt;A,NM_004543.5:c.4347G&gt;A,NM_004543.4:c.4347G&gt;A,NM_001271208.2:c.4347G&gt;A,NM_001271208.1:c.4347G&gt;A,NM_001164508.2:c.4347G&gt;A,NM_001164508.1:c.4347G&gt;A,NM_001164507.2:c.4347G&gt;A,NM_001164507.1:c.4347G&gt;A,XM_005246594.3:c.4347G&gt;A,XM_005246594.2:c.4347G&gt;A,XM_005246594.1:c.4347G&gt;A,XM_005246593.3:c.4347G&gt;A,XM_005246593.2:c.4347G&gt;A,XM_005246593.1:c.4347G&gt;A,XM_005246592.3:c.4347G&gt;A,XM_005246592.2:c.4347G&gt;A,XM_005246592.1:c.4347G&gt;A,XM_005246591.3:c.4347G&gt;A,XM_005246591.2:c.4347G&gt;A,XM_005246591.1:c.4347G&gt;A,XM_005246590.3:c.4347G&gt;A,XM_005246590.2:c.4347G&gt;A,XM_005246590.1:c.4347G&gt;A,XM_005246598.3:c.4347G&gt;A,XM_005246598.2:c.4347G&gt;A,XM_005246598.1:c.4347G&gt;A,XM_005246597.3:c.4347G&gt;A,XM_005246597.2:c.4347G&gt;A,XM_005246597.1:c.4347G&gt;A,XM_005246596.3:c.4347G&gt;A,XM_005246596.2:c.4347G&gt;A,XM_005246596.1:c.4347G&gt;A,XM_005246599.3:c.4347G&gt;A,XM_005246599.2:c.4347G&gt;A,XM_005246599.1:c.4347G&gt;A,XM_005246602.3:c.4347G&gt;A,XM_005246602.2:c.4347G&gt;A,XM_005246602.1:c.4347G&gt;A,XM_005246601.3:c.4347G&gt;A,XM_005246601.2:c.4347G&gt;A,XM_005246601.1:c.4347G&gt;A,XM_006712542.3:c.4347G&gt;A,XM_006712542.2:c.4347G&gt;A,XM_006712542.1:c.4347G&gt;A,XM_006712541.3:c.4347G&gt;A,XM_006712541.2:c.4347G&gt;A,XM_006712541.1:c.4347G&gt;A,XM_005246606.3:c.4347G&gt;A,XM_005246606.2:c.4347G&gt;A,XM_005246606.1:c.4347G&gt;A,XM_005246604.3:c.4347G&gt;A,XM_005246604.2:c.4347G&gt;A,XM_005246604.1:c.4347G&gt;A,XM_005246608.3:c.4347G&gt;A,XM_005246608.2:c.4347G&gt;A,XM_005246608.1:c.4347G&gt;A,XM_005246611.3:c.4347G&gt;A,XM_005246611.2:c.4347G&gt;A,XM_005246611.1:c.4347G&gt;A,XM_005246610.3:c.4347G&gt;A,XM_005246610.2:c.4347G&gt;A,XM_005246610.1:c.4347G&gt;A,XM_005246613.3:c.4347G&gt;A,XM_005246613.2:c.4347G&gt;A,XM_005246613.1:c.4347G&gt;A,XM_005246612.3:c.4347G&gt;A,XM_005246612.2:c.4347G&gt;A,XM_005246612.1:c.4347G&gt;A,XM_011511225.3:c.4347G&gt;A,XM_011511225.2:c.4347G&gt;A,XM_011511225.1:c.4347G&gt;A,XM_005246615.3:c.4347G&gt;A,XM_005246615.2:c.4347G&gt;A,XM_005246615.1:c.4347G&gt;A,XM_011511226.3:c.4347G&gt;A,XM_011511226.2:c.4347G&gt;A,XM_011511226.1:c.4347G&gt;A,XM_005246617.3:c.4347G&gt;A,XM_005246617.2:c.4347G&gt;A,XM_005246617.1:c.4347G&gt;A,XM_011511227.3:c.4347G&gt;A,XM_011511227.2:c.4347G&gt;A,XM_011511227.1:c.4347G&gt;A,XM_017004177.2:c.4347G&gt;A,XM_017004177.1:c.4347G&gt;A,XM_017004178.2:c.4347G&gt;A,XM_017004178.1:c.4347G&gt;A,XM_017004180.2:c.4347G&gt;A,XM_017004180.1:c.4347G&gt;A,XM_017004179.2:c.4347G&gt;A,XM_017004179.1:c.4347G&gt;A,XM_017004181.2:c.4347G&gt;A,XM_017004181.1:c.4347G&gt;A,XM_017004182.2:c.4347G&gt;A,XM_017004182.1:c.4347G&gt;A,XM_017004184.2:c.4347G&gt;A,XM_017004184.1:c.4347G&gt;A,XM_017004183.2:c.4347G&gt;A,XM_017004183.1:c.4347G&gt;A,XM_017004185.2:c.4347G&gt;A,XM_017004185.1:c.4347G&gt;A,XM_005246616.2:c.4347G&gt;A,XM_005246616.1:c.4347G&gt;A,XM_047444477.1:c.4347G&gt;A,XM_047444478.1:c.4347G&gt;A,XM_047444479.1:c.4347G&gt;A,XM_047444482.1:c.4347G&gt;A,XM_047444481.1:c.4347G&gt;A,XM_047444483.1:c.4347G&gt;A,XM_047444484.1:c.4347G&gt;A,XM_047444485.1:c.4347G&gt;A,NP_004534.3:p.Trp1449Ter,NP_001258137.2:p.Trp1449Ter,NP_001157980.2:p.Trp1449Ter,NP_001157979.2:p.Trp1449Ter,XP_005246651.1:p.Trp1449Ter,XP_005246650.1:p.Trp1449Ter,XP_005246649.1:p.Trp1449Ter,XP_005246648.1:p.Trp1449Ter,XP_005246647.1:p.Trp1449Ter,XP_005246655.1:p.Trp1449Ter,XP_005246654.1:p.Trp1449Ter,XP_005246653.1:p.Trp1449Ter,XP_005246656.1:p.Trp1449Ter,XP_005246659.1:p.Trp1449Ter,XP_005246658.1:p.Trp1449Ter,XP_006712605.1:p.Trp1449Ter,XP_006712604.1:p.Trp1449Ter,XP_005246663.1:p.Trp1449Ter,XP_005246661.1:p.Trp1449Ter,XP_005246665.1:p.Trp1449Ter,XP_005246668.1:p.Trp1449Ter,XP_005246667.1:p.Trp1449Ter,XP_005246670.1:p.Trp1449Ter,XP_005246669.1:p.Trp1449Ter,XP_011509527.1:p.Trp1449Ter,XP_005246672.1:p.Trp1449Ter,XP_011509528.1:p.Trp1449Ter,XP_005246674.1:p.Trp1449Ter,XP_011509529.1:p.Trp1449Ter,XP_016859666.1:p.Trp1449Ter,XP_016859667.1:p.Trp1449Ter,XP_016859669.1:p.Trp1449Ter,XP_016859668.1:p.Trp1449Ter,XP_016859670.1:p.Trp1449Ter,XP_016859671.1:p.Trp1449Ter,XP_016859673.1:p.Trp1449Ter,XP_016859672.1:p.Trp1449Ter,XP_016859674.1:p.Trp1449Ter,XP_005246673.1:p.Trp1449Ter,XP_047300433.1:p.Trp1449Ter,XP_047300434.1:p.Trp1449Ter,XP_047300435.1:p.Trp1449Ter,XP_047300438.1:p.Trp1449Ter,XP_047300437.1:p.Trp1449Ter,XP_047300439.1:p.Trp1449Ter,XP_047300440.1:p.Trp1449Ter,XP_047300441.1:p.Trp1449Ter|SEQ=[C/T]|LEN=1|GENE=NEB:4703</DOCSUM><TAX_ID>9606</TAX_ID><ORIG_BUILD>156</ORIG_BUILD><UPD_BUILD>156</UPD_BUILD><CREATEDATE>2022/10/17 14:54</CREATEDATE><UPDATEDATE>2022/10/17 14:54</UPDATEDATE><SS>0</SS><ALLELE>Y</ALLELE><SNP_CLASS>snv</SNP_CLASS><CHRPOS>2:151671182</CHRPOS><CHRPOS_PREV_ASSM>2:152527696</CHRPOS_PREV_ASSM><TEXT/><SNP_ID_SORT>2154190685</SNP_ID_SORT><CLINICAL_SORT>1</CLINICAL_SORT><CITED_SORT/><CHRPOS_SORT>0151671182</CHRPOS_SORT><MERGED_SORT>0</MERGED_SORT></DocumentSummary>\\n</ExchangeSet>'\n",
      "Going to download record 5 to 6\n"
     ]
    },
    {
     "ename": "NameError",
     "evalue": "name 'HTTPError' is not defined",
     "output_type": "error",
     "traceback": [
      "\u001b[1;31m---------------------------------------------------------------------------\u001b[0m",
      "\u001b[1;31mKeyboardInterrupt\u001b[0m                         Traceback (most recent call last)",
      "Cell \u001b[1;32mIn[17], line 11\u001b[0m\n\u001b[0;32m     10\u001b[0m \u001b[38;5;28;01mtry\u001b[39;00m:\n\u001b[1;32m---> 11\u001b[0m     fetch_handle \u001b[38;5;241m=\u001b[39m \u001b[43mEntrez\u001b[49m\u001b[38;5;241;43m.\u001b[39;49m\u001b[43mefetch\u001b[49m\u001b[43m(\u001b[49m\u001b[43mdb\u001b[49m\u001b[38;5;241;43m=\u001b[39;49m\u001b[38;5;124;43m\"\u001b[39;49m\u001b[38;5;124;43msnp\u001b[39;49m\u001b[38;5;124;43m\"\u001b[39;49m\u001b[43m,\u001b[49m\n\u001b[0;32m     12\u001b[0m \u001b[43m                                 \u001b[49m\u001b[38;5;66;43;03m#rettype=\"uilist\", #available types [uilist | xml (use retmode=xml))\u001b[39;49;00m\n\u001b[0;32m     13\u001b[0m \u001b[43m                                 \u001b[49m\u001b[43mretmode\u001b[49m\u001b[38;5;241;43m=\u001b[39;49m\u001b[38;5;124;43m\"\u001b[39;49m\u001b[38;5;124;43mxml\u001b[39;49m\u001b[38;5;124;43m\"\u001b[39;49m\u001b[43m,\u001b[49m\n\u001b[0;32m     14\u001b[0m \u001b[43m                                 \u001b[49m\u001b[43mretstart\u001b[49m\u001b[38;5;241;43m=\u001b[39;49m\u001b[43mstart\u001b[49m\u001b[43m,\u001b[49m\n\u001b[0;32m     15\u001b[0m \u001b[43m                                 \u001b[49m\u001b[43mretmax\u001b[49m\u001b[38;5;241;43m=\u001b[39;49m\u001b[43mretmax\u001b[49m\u001b[43m,\u001b[49m\n\u001b[0;32m     16\u001b[0m \u001b[43m                                 \u001b[49m\u001b[43mwebenv\u001b[49m\u001b[38;5;241;43m=\u001b[39;49m\u001b[43mwebenv\u001b[49m\u001b[43m,\u001b[49m\n\u001b[0;32m     17\u001b[0m \u001b[43m                                 \u001b[49m\u001b[43mquery_key\u001b[49m\u001b[38;5;241;43m=\u001b[39;49m\u001b[43mquery_key\u001b[49m\u001b[43m \u001b[49m\u001b[43m)\u001b[49m\n\u001b[0;32m     18\u001b[0m \u001b[38;5;28;01mexcept\u001b[39;00m HTTPError \u001b[38;5;28;01mas\u001b[39;00m err:\n",
      "File \u001b[1;32mc:\\Users\\lukys\\.conda\\envs\\dbsnp\\lib\\site-packages\\Bio\\Entrez\\__init__.py:197\u001b[0m, in \u001b[0;36mefetch\u001b[1;34m(db, **keywords)\u001b[0m\n\u001b[0;32m    196\u001b[0m request \u001b[38;5;241m=\u001b[39m _build_request(cgi, variables)\n\u001b[1;32m--> 197\u001b[0m \u001b[38;5;28;01mreturn\u001b[39;00m \u001b[43m_open\u001b[49m\u001b[43m(\u001b[49m\u001b[43mrequest\u001b[49m\u001b[43m)\u001b[49m\n",
      "File \u001b[1;32mc:\\Users\\lukys\\.conda\\envs\\dbsnp\\lib\\site-packages\\Bio\\Entrez\\__init__.py:623\u001b[0m, in \u001b[0;36m_open\u001b[1;34m(request)\u001b[0m\n\u001b[0;32m    622\u001b[0m \u001b[38;5;28;01mtry\u001b[39;00m:\n\u001b[1;32m--> 623\u001b[0m     handle \u001b[38;5;241m=\u001b[39m \u001b[43murlopen\u001b[49m\u001b[43m(\u001b[49m\u001b[43mrequest\u001b[49m\u001b[43m)\u001b[49m\n\u001b[0;32m    624\u001b[0m \u001b[38;5;28;01mexcept\u001b[39;00m HTTPError \u001b[38;5;28;01mas\u001b[39;00m exception:\n\u001b[0;32m    625\u001b[0m     \u001b[38;5;66;03m# Reraise if the final try fails\u001b[39;00m\n",
      "File \u001b[1;32mc:\\Users\\lukys\\.conda\\envs\\dbsnp\\lib\\urllib\\request.py:222\u001b[0m, in \u001b[0;36murlopen\u001b[1;34m(url, data, timeout, cafile, capath, cadefault, context)\u001b[0m\n\u001b[0;32m    221\u001b[0m     opener \u001b[38;5;241m=\u001b[39m _opener\n\u001b[1;32m--> 222\u001b[0m \u001b[38;5;28;01mreturn\u001b[39;00m \u001b[43mopener\u001b[49m\u001b[38;5;241;43m.\u001b[39;49m\u001b[43mopen\u001b[49m\u001b[43m(\u001b[49m\u001b[43murl\u001b[49m\u001b[43m,\u001b[49m\u001b[43m \u001b[49m\u001b[43mdata\u001b[49m\u001b[43m,\u001b[49m\u001b[43m \u001b[49m\u001b[43mtimeout\u001b[49m\u001b[43m)\u001b[49m\n",
      "File \u001b[1;32mc:\\Users\\lukys\\.conda\\envs\\dbsnp\\lib\\urllib\\request.py:525\u001b[0m, in \u001b[0;36mOpenerDirector.open\u001b[1;34m(self, fullurl, data, timeout)\u001b[0m\n\u001b[0;32m    524\u001b[0m sys\u001b[38;5;241m.\u001b[39maudit(\u001b[38;5;124m'\u001b[39m\u001b[38;5;124murllib.Request\u001b[39m\u001b[38;5;124m'\u001b[39m, req\u001b[38;5;241m.\u001b[39mfull_url, req\u001b[38;5;241m.\u001b[39mdata, req\u001b[38;5;241m.\u001b[39mheaders, req\u001b[38;5;241m.\u001b[39mget_method())\n\u001b[1;32m--> 525\u001b[0m response \u001b[38;5;241m=\u001b[39m \u001b[38;5;28;43mself\u001b[39;49m\u001b[38;5;241;43m.\u001b[39;49m\u001b[43m_open\u001b[49m\u001b[43m(\u001b[49m\u001b[43mreq\u001b[49m\u001b[43m,\u001b[49m\u001b[43m \u001b[49m\u001b[43mdata\u001b[49m\u001b[43m)\u001b[49m\n\u001b[0;32m    527\u001b[0m \u001b[38;5;66;03m# post-process response\u001b[39;00m\n",
      "File \u001b[1;32mc:\\Users\\lukys\\.conda\\envs\\dbsnp\\lib\\urllib\\request.py:542\u001b[0m, in \u001b[0;36mOpenerDirector._open\u001b[1;34m(self, req, data)\u001b[0m\n\u001b[0;32m    541\u001b[0m protocol \u001b[38;5;241m=\u001b[39m req\u001b[38;5;241m.\u001b[39mtype\n\u001b[1;32m--> 542\u001b[0m result \u001b[38;5;241m=\u001b[39m \u001b[38;5;28;43mself\u001b[39;49m\u001b[38;5;241;43m.\u001b[39;49m\u001b[43m_call_chain\u001b[49m\u001b[43m(\u001b[49m\u001b[38;5;28;43mself\u001b[39;49m\u001b[38;5;241;43m.\u001b[39;49m\u001b[43mhandle_open\u001b[49m\u001b[43m,\u001b[49m\u001b[43m \u001b[49m\u001b[43mprotocol\u001b[49m\u001b[43m,\u001b[49m\u001b[43m \u001b[49m\u001b[43mprotocol\u001b[49m\u001b[43m \u001b[49m\u001b[38;5;241;43m+\u001b[39;49m\n\u001b[0;32m    543\u001b[0m \u001b[43m                          \u001b[49m\u001b[38;5;124;43m'\u001b[39;49m\u001b[38;5;124;43m_open\u001b[39;49m\u001b[38;5;124;43m'\u001b[39;49m\u001b[43m,\u001b[49m\u001b[43m \u001b[49m\u001b[43mreq\u001b[49m\u001b[43m)\u001b[49m\n\u001b[0;32m    544\u001b[0m \u001b[38;5;28;01mif\u001b[39;00m result:\n",
      "File \u001b[1;32mc:\\Users\\lukys\\.conda\\envs\\dbsnp\\lib\\urllib\\request.py:502\u001b[0m, in \u001b[0;36mOpenerDirector._call_chain\u001b[1;34m(self, chain, kind, meth_name, *args)\u001b[0m\n\u001b[0;32m    501\u001b[0m func \u001b[38;5;241m=\u001b[39m \u001b[38;5;28mgetattr\u001b[39m(handler, meth_name)\n\u001b[1;32m--> 502\u001b[0m result \u001b[38;5;241m=\u001b[39m \u001b[43mfunc\u001b[49m\u001b[43m(\u001b[49m\u001b[38;5;241;43m*\u001b[39;49m\u001b[43margs\u001b[49m\u001b[43m)\u001b[49m\n\u001b[0;32m    503\u001b[0m \u001b[38;5;28;01mif\u001b[39;00m result \u001b[38;5;129;01mis\u001b[39;00m \u001b[38;5;129;01mnot\u001b[39;00m \u001b[38;5;28;01mNone\u001b[39;00m:\n",
      "File \u001b[1;32mc:\\Users\\lukys\\.conda\\envs\\dbsnp\\lib\\urllib\\request.py:1397\u001b[0m, in \u001b[0;36mHTTPSHandler.https_open\u001b[1;34m(self, req)\u001b[0m\n\u001b[0;32m   1396\u001b[0m \u001b[38;5;28;01mdef\u001b[39;00m \u001b[38;5;21mhttps_open\u001b[39m(\u001b[38;5;28mself\u001b[39m, req):\n\u001b[1;32m-> 1397\u001b[0m     \u001b[38;5;28;01mreturn\u001b[39;00m \u001b[38;5;28;43mself\u001b[39;49m\u001b[38;5;241;43m.\u001b[39;49m\u001b[43mdo_open\u001b[49m\u001b[43m(\u001b[49m\u001b[43mhttp\u001b[49m\u001b[38;5;241;43m.\u001b[39;49m\u001b[43mclient\u001b[49m\u001b[38;5;241;43m.\u001b[39;49m\u001b[43mHTTPSConnection\u001b[49m\u001b[43m,\u001b[49m\u001b[43m \u001b[49m\u001b[43mreq\u001b[49m\u001b[43m,\u001b[49m\n\u001b[0;32m   1398\u001b[0m \u001b[43m        \u001b[49m\u001b[43mcontext\u001b[49m\u001b[38;5;241;43m=\u001b[39;49m\u001b[38;5;28;43mself\u001b[39;49m\u001b[38;5;241;43m.\u001b[39;49m\u001b[43m_context\u001b[49m\u001b[43m,\u001b[49m\u001b[43m \u001b[49m\u001b[43mcheck_hostname\u001b[49m\u001b[38;5;241;43m=\u001b[39;49m\u001b[38;5;28;43mself\u001b[39;49m\u001b[38;5;241;43m.\u001b[39;49m\u001b[43m_check_hostname\u001b[49m\u001b[43m)\u001b[49m\n",
      "File \u001b[1;32mc:\\Users\\lukys\\.conda\\envs\\dbsnp\\lib\\urllib\\request.py:1358\u001b[0m, in \u001b[0;36mAbstractHTTPHandler.do_open\u001b[1;34m(self, http_class, req, **http_conn_args)\u001b[0m\n\u001b[0;32m   1357\u001b[0m         \u001b[38;5;28;01mraise\u001b[39;00m URLError(err)\n\u001b[1;32m-> 1358\u001b[0m     r \u001b[38;5;241m=\u001b[39m \u001b[43mh\u001b[49m\u001b[38;5;241;43m.\u001b[39;49m\u001b[43mgetresponse\u001b[49m\u001b[43m(\u001b[49m\u001b[43m)\u001b[49m\n\u001b[0;32m   1359\u001b[0m \u001b[38;5;28;01mexcept\u001b[39;00m:\n",
      "File \u001b[1;32mc:\\Users\\lukys\\.conda\\envs\\dbsnp\\lib\\http\\client.py:1348\u001b[0m, in \u001b[0;36mHTTPConnection.getresponse\u001b[1;34m(self)\u001b[0m\n\u001b[0;32m   1347\u001b[0m \u001b[38;5;28;01mtry\u001b[39;00m:\n\u001b[1;32m-> 1348\u001b[0m     \u001b[43mresponse\u001b[49m\u001b[38;5;241;43m.\u001b[39;49m\u001b[43mbegin\u001b[49m\u001b[43m(\u001b[49m\u001b[43m)\u001b[49m\n\u001b[0;32m   1349\u001b[0m \u001b[38;5;28;01mexcept\u001b[39;00m \u001b[38;5;167;01mConnectionError\u001b[39;00m:\n",
      "File \u001b[1;32mc:\\Users\\lukys\\.conda\\envs\\dbsnp\\lib\\http\\client.py:316\u001b[0m, in \u001b[0;36mHTTPResponse.begin\u001b[1;34m(self)\u001b[0m\n\u001b[0;32m    315\u001b[0m \u001b[38;5;28;01mwhile\u001b[39;00m \u001b[38;5;28;01mTrue\u001b[39;00m:\n\u001b[1;32m--> 316\u001b[0m     version, status, reason \u001b[38;5;241m=\u001b[39m \u001b[38;5;28;43mself\u001b[39;49m\u001b[38;5;241;43m.\u001b[39;49m\u001b[43m_read_status\u001b[49m\u001b[43m(\u001b[49m\u001b[43m)\u001b[49m\n\u001b[0;32m    317\u001b[0m     \u001b[38;5;28;01mif\u001b[39;00m status \u001b[38;5;241m!=\u001b[39m CONTINUE:\n",
      "File \u001b[1;32mc:\\Users\\lukys\\.conda\\envs\\dbsnp\\lib\\http\\client.py:277\u001b[0m, in \u001b[0;36mHTTPResponse._read_status\u001b[1;34m(self)\u001b[0m\n\u001b[0;32m    276\u001b[0m \u001b[38;5;28;01mdef\u001b[39;00m \u001b[38;5;21m_read_status\u001b[39m(\u001b[38;5;28mself\u001b[39m):\n\u001b[1;32m--> 277\u001b[0m     line \u001b[38;5;241m=\u001b[39m \u001b[38;5;28mstr\u001b[39m(\u001b[38;5;28;43mself\u001b[39;49m\u001b[38;5;241;43m.\u001b[39;49m\u001b[43mfp\u001b[49m\u001b[38;5;241;43m.\u001b[39;49m\u001b[43mreadline\u001b[49m\u001b[43m(\u001b[49m\u001b[43m_MAXLINE\u001b[49m\u001b[43m \u001b[49m\u001b[38;5;241;43m+\u001b[39;49m\u001b[43m \u001b[49m\u001b[38;5;241;43m1\u001b[39;49m\u001b[43m)\u001b[49m, \u001b[38;5;124m\"\u001b[39m\u001b[38;5;124miso-8859-1\u001b[39m\u001b[38;5;124m\"\u001b[39m)\n\u001b[0;32m    278\u001b[0m     \u001b[38;5;28;01mif\u001b[39;00m \u001b[38;5;28mlen\u001b[39m(line) \u001b[38;5;241m>\u001b[39m _MAXLINE:\n",
      "File \u001b[1;32mc:\\Users\\lukys\\.conda\\envs\\dbsnp\\lib\\socket.py:681\u001b[0m, in \u001b[0;36mSocketIO.readinto\u001b[1;34m(self, b)\u001b[0m\n\u001b[0;32m    680\u001b[0m \u001b[38;5;28;01mtry\u001b[39;00m:\n\u001b[1;32m--> 681\u001b[0m     \u001b[38;5;28;01mreturn\u001b[39;00m \u001b[38;5;28;43mself\u001b[39;49m\u001b[38;5;241;43m.\u001b[39;49m\u001b[43m_sock\u001b[49m\u001b[38;5;241;43m.\u001b[39;49m\u001b[43mrecv_into\u001b[49m\u001b[43m(\u001b[49m\u001b[43mb\u001b[49m\u001b[43m)\u001b[49m\n\u001b[0;32m    682\u001b[0m \u001b[38;5;28;01mexcept\u001b[39;00m timeout:\n",
      "File \u001b[1;32mc:\\Users\\lukys\\.conda\\envs\\dbsnp\\lib\\ssl.py:1274\u001b[0m, in \u001b[0;36mSSLSocket.recv_into\u001b[1;34m(self, buffer, nbytes, flags)\u001b[0m\n\u001b[0;32m   1271\u001b[0m         \u001b[38;5;28;01mraise\u001b[39;00m \u001b[38;5;167;01mValueError\u001b[39;00m(\n\u001b[0;32m   1272\u001b[0m           \u001b[38;5;124m\"\u001b[39m\u001b[38;5;124mnon-zero flags not allowed in calls to recv_into() on \u001b[39m\u001b[38;5;132;01m%s\u001b[39;00m\u001b[38;5;124m\"\u001b[39m \u001b[38;5;241m%\u001b[39m\n\u001b[0;32m   1273\u001b[0m           \u001b[38;5;28mself\u001b[39m\u001b[38;5;241m.\u001b[39m\u001b[38;5;18m__class__\u001b[39m)\n\u001b[1;32m-> 1274\u001b[0m     \u001b[38;5;28;01mreturn\u001b[39;00m \u001b[38;5;28;43mself\u001b[39;49m\u001b[38;5;241;43m.\u001b[39;49m\u001b[43mread\u001b[49m\u001b[43m(\u001b[49m\u001b[43mnbytes\u001b[49m\u001b[43m,\u001b[49m\u001b[43m \u001b[49m\u001b[43mbuffer\u001b[49m\u001b[43m)\u001b[49m\n\u001b[0;32m   1275\u001b[0m \u001b[38;5;28;01melse\u001b[39;00m:\n",
      "File \u001b[1;32mc:\\Users\\lukys\\.conda\\envs\\dbsnp\\lib\\ssl.py:1132\u001b[0m, in \u001b[0;36mSSLSocket.read\u001b[1;34m(self, len, buffer)\u001b[0m\n\u001b[0;32m   1131\u001b[0m \u001b[38;5;28;01mif\u001b[39;00m buffer \u001b[38;5;129;01mis\u001b[39;00m \u001b[38;5;129;01mnot\u001b[39;00m \u001b[38;5;28;01mNone\u001b[39;00m:\n\u001b[1;32m-> 1132\u001b[0m     \u001b[38;5;28;01mreturn\u001b[39;00m \u001b[38;5;28;43mself\u001b[39;49m\u001b[38;5;241;43m.\u001b[39;49m\u001b[43m_sslobj\u001b[49m\u001b[38;5;241;43m.\u001b[39;49m\u001b[43mread\u001b[49m\u001b[43m(\u001b[49m\u001b[38;5;28;43mlen\u001b[39;49m\u001b[43m,\u001b[49m\u001b[43m \u001b[49m\u001b[43mbuffer\u001b[49m\u001b[43m)\u001b[49m\n\u001b[0;32m   1133\u001b[0m \u001b[38;5;28;01melse\u001b[39;00m:\n",
      "\u001b[1;31mKeyboardInterrupt\u001b[0m: ",
      "\nDuring handling of the above exception, another exception occurred:\n",
      "\u001b[1;31mNameError\u001b[0m                                 Traceback (most recent call last)",
      "Cell \u001b[1;32mIn[17], line 18\u001b[0m\n\u001b[0;32m     10\u001b[0m \u001b[38;5;28;01mtry\u001b[39;00m:\n\u001b[0;32m     11\u001b[0m     fetch_handle \u001b[38;5;241m=\u001b[39m Entrez\u001b[38;5;241m.\u001b[39mefetch(db\u001b[38;5;241m=\u001b[39m\u001b[38;5;124m\"\u001b[39m\u001b[38;5;124msnp\u001b[39m\u001b[38;5;124m\"\u001b[39m,\n\u001b[0;32m     12\u001b[0m                                  \u001b[38;5;66;03m#rettype=\"uilist\", #available types [uilist | xml (use retmode=xml))\u001b[39;00m\n\u001b[0;32m     13\u001b[0m                                  retmode\u001b[38;5;241m=\u001b[39m\u001b[38;5;124m\"\u001b[39m\u001b[38;5;124mxml\u001b[39m\u001b[38;5;124m\"\u001b[39m,\n\u001b[1;32m   (...)\u001b[0m\n\u001b[0;32m     16\u001b[0m                                  webenv\u001b[38;5;241m=\u001b[39mwebenv,\n\u001b[0;32m     17\u001b[0m                                  query_key\u001b[38;5;241m=\u001b[39mquery_key )\n\u001b[1;32m---> 18\u001b[0m \u001b[38;5;28;01mexcept\u001b[39;00m \u001b[43mHTTPError\u001b[49m \u001b[38;5;28;01mas\u001b[39;00m err:\n\u001b[0;32m     19\u001b[0m     \u001b[38;5;28;01mif\u001b[39;00m \u001b[38;5;241m500\u001b[39m \u001b[38;5;241m<\u001b[39m\u001b[38;5;241m=\u001b[39m err\u001b[38;5;241m.\u001b[39mcode \u001b[38;5;241m<\u001b[39m\u001b[38;5;241m=\u001b[39m \u001b[38;5;241m599\u001b[39m:\n\u001b[0;32m     20\u001b[0m         \u001b[38;5;28mprint\u001b[39m(\u001b[38;5;124m\"\u001b[39m\u001b[38;5;124mReceived error from server \u001b[39m\u001b[38;5;132;01m%s\u001b[39;00m\u001b[38;5;124m\"\u001b[39m \u001b[38;5;241m%\u001b[39m err)\n",
      "\u001b[1;31mNameError\u001b[0m: name 'HTTPError' is not defined"
     ]
    }
   ],
   "source": [
    "# sample codes adopted with modifications from http://biopython.org/DIST/docs/tutorial/Tutorial.html#htoc139.\n",
    "fetch_count = 0\n",
    "for start in range(0, total_count, retmax):\n",
    "    end = min(total_count, start+retmax)\n",
    "    print(\"Going to download record %i to %i\" % (start+1, end))\n",
    "    attempt = 0\n",
    "    #fetch_count += 1\n",
    "    while (attempt < 3):\n",
    "        attempt += 1\n",
    "        try:\n",
    "            fetch_handle = Entrez.efetch(db=\"snp\",\n",
    "                                         #rettype=\"uilist\", #available types [uilist | xml (use retmode=xml))\n",
    "                                         retmode=\"xml\",\n",
    "                                         retstart=start,\n",
    "                                         retmax=retmax,\n",
    "                                         webenv=webenv,\n",
    "                                         query_key=query_key )\n",
    "        except HTTPError as err:\n",
    "            if 500 <= err.code <= 599:\n",
    "                print(\"Received error from server %s\" % err)\n",
    "                print(\"Attempt %i of 3\" % attempt)\n",
    "                time.sleep(15)\n",
    "            else:\n",
    "                raise\n",
    "    if (fetch_handle):\n",
    "        #print(fetch_handle)            \n",
    "        data = fetch_handle.read()\n",
    "        print(data)\n",
    "        fetch_handle.close()\n",
    "\n"
   ]
  }
 ],
 "metadata": {
  "kernelspec": {
   "display_name": "dbsnp",
   "language": "python",
   "name": "python3"
  },
  "language_info": {
   "codemirror_mode": {
    "name": "ipython",
    "version": 3
   },
   "file_extension": ".py",
   "mimetype": "text/x-python",
   "name": "python",
   "nbconvert_exporter": "python",
   "pygments_lexer": "ipython3",
   "version": "3.8.20"
  }
 },
 "nbformat": 4,
 "nbformat_minor": 2
}
